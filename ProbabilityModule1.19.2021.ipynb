{
 "cells": [
  {
   "cell_type": "markdown",
   "metadata": {},
   "source": [
    "## Introduction to Jupyter, Python, and Discrete Probability models"
   ]
  },
  {
   "cell_type": "markdown",
   "metadata": {},
   "source": [
    "# Importing Libraries"
   ]
  },
  {
   "cell_type": "code",
   "execution_count": 16,
   "metadata": {
    "scrolled": true
   },
   "outputs": [],
   "source": [
    "# Import all necessary libraries. Run this cell: Ctrl+Enter \n",
    "# You don't need to know this\n",
    "import pandas as pd\n",
    "import numpy as np\n",
    "%matplotlib inline\n",
    "import matplotlib.pyplot as plt\n",
    "from ipywidgets import interact, interactive, fixed, interact_manual \n",
    "from IPython.display import Image, display\n",
    "from prob import *\n",
    "import collections"
   ]
  },
  {
   "cell_type": "markdown",
   "metadata": {},
   "source": [
    "# Getting a feeling for probability"
   ]
  },
  {
   "cell_type": "raw",
   "metadata": {},
   "source": [
    "TODO: add a little preamble about probability"
   ]
  },
  {
   "cell_type": "markdown",
   "metadata": {},
   "source": [
    "<img src='DinoCoinFlipAnimation.gif' width='300' height='250'>"
   ]
  },
  {
   "cell_type": "markdown",
   "metadata": {},
   "source": [
    "TODO: give directions for using this widget"
   ]
  },
  {
   "cell_type": "markdown",
   "metadata": {},
   "source": [
    "# Natasha comment:  adding explaination about the random function in python will make students understand where does the outcome come from, so students can understand that this is an simulation situation which could be different from the theory they learned from the class."
   ]
  },
  {
   "cell_type": "code",
   "execution_count": 17,
   "metadata": {
    "scrolled": true
   },
   "outputs": [
    {
     "data": {
      "application/vnd.jupyter.widget-view+json": {
       "model_id": "2507de39fa3c4151abb3bb013abd24a5",
       "version_major": 2,
       "version_minor": 0
      },
      "text/plain": [
       "interactive(children=(IntSlider(value=50, description='trials', min=1), Button(description='Run Interact', sty…"
      ]
     },
     "metadata": {},
     "output_type": "display_data"
    }
   ],
   "source": [
    "interact_manual(flip_coins, trials=(1,100));"
   ]
  },
  {
   "cell_type": "markdown",
   "metadata": {},
   "source": [
    "TODO: give directions for using this widget"
   ]
  },
  {
   "cell_type": "code",
   "execution_count": 18,
   "metadata": {
    "scrolled": true
   },
   "outputs": [
    {
     "data": {
      "application/vnd.jupyter.widget-view+json": {
       "model_id": "ad184f36f8934c47bddc3df88eb0f816",
       "version_major": 2,
       "version_minor": 0
      },
      "text/plain": [
       "interactive(children=(IntSlider(value=50, description='trials', min=1), Button(description='Run Interact', sty…"
      ]
     },
     "metadata": {},
     "output_type": "display_data"
    }
   ],
   "source": [
    "interact_manual(flip_coins_pairs, trials=(1,100));"
   ]
  },
  {
   "cell_type": "markdown",
   "metadata": {},
   "source": [
    "TODO: give directions for using this widget"
   ]
  },
  {
   "cell_type": "code",
   "execution_count": 19,
   "metadata": {
    "scrolled": false
   },
   "outputs": [
    {
     "data": {
      "application/vnd.jupyter.widget-view+json": {
       "model_id": "739887a013144e22950a55c73596b9d0",
       "version_major": 2,
       "version_minor": 0
      },
      "text/plain": [
       "interactive(children=(IntSlider(value=50, description='trials', min=1), Button(description='Run Interact', sty…"
      ]
     },
     "metadata": {},
     "output_type": "display_data"
    }
   ],
   "source": [
    "interact_manual(flip_coins_triples, trials=(1, 100));"
   ]
  },
  {
   "cell_type": "markdown",
   "metadata": {},
   "source": [
    "TODO: give directions for using this widget"
   ]
  },
  {
   "cell_type": "markdown",
   "metadata": {},
   "source": [
    "# Natasha comment: students can apply random() function to learn how to use it "
   ]
  },
  {
   "cell_type": "code",
   "execution_count": 23,
   "metadata": {},
   "outputs": [
    {
     "name": "stdout",
     "output_type": "stream",
     "text": [
      "6\n"
     ]
    }
   ],
   "source": [
    "#  random.randint(a, b)\n",
    "# Return a random integer N such that a <= N <= b.\n",
    "\n",
    "import random\n",
    "print (random.randint(5, 10))\n"
   ]
  },
  {
   "cell_type": "code",
   "execution_count": 24,
   "metadata": {},
   "outputs": [],
   "source": [
    "# now you try to return a random integer between 10 to 20\n"
   ]
  },
  {
   "cell_type": "markdown",
   "metadata": {},
   "source": [
    "# Natasha comment: I am not very familiar with bias in probability, so I don't know what feedback could be helpful about this topic. "
   ]
  },
  {
   "cell_type": "code",
   "execution_count": 5,
   "metadata": {},
   "outputs": [],
   "source": [
    "# this doesn't need to be included. We could just remove it.\n",
    "#interact_manual(flip_coins_biased, trials=(1,50), heads_bias=(0.0,1.0,0.05));"
   ]
  },
  {
   "cell_type": "markdown",
   "metadata": {},
   "source": [
    "TODO: introduce radar detector"
   ]
  },
  {
   "cell_type": "markdown",
   "metadata": {},
   "source": [
    "<!-- image source: https://ocw.mit.edu/resources/res-6-012-introduction-to-probability-spring-2018/part-i-the-fundamentals/MITRES_6_012S18_L02.pdf -->\n",
    "<img src='radar.png' width='500' height='500'>"
   ]
  },
  {
   "cell_type": "markdown",
   "metadata": {},
   "source": [
    "TODO: give directions for using this widget"
   ]
  },
  {
   "cell_type": "code",
   "execution_count": 6,
   "metadata": {},
   "outputs": [
    {
     "data": {
      "application/vnd.jupyter.widget-view+json": {
       "model_id": "9a997d5aefea4869848d3ec93a73ae67",
       "version_major": 2,
       "version_minor": 0
      },
      "text/plain": [
       "interactive(children=(Dropdown(description='detections', options=(10, 100, 1000), value=10), Button(descriptio…"
      ]
     },
     "metadata": {},
     "output_type": "display_data"
    }
   ],
   "source": [
    "interact_manual(radar_dectector, detections=[10,100,1000]);"
   ]
  },
  {
   "cell_type": "markdown",
   "metadata": {},
   "source": [
    "<img src='montyhalldoors.png' width='400' height='300'>"
   ]
  },
  {
   "cell_type": "markdown",
   "metadata": {},
   "source": [
    "TODO: give directions for using this widget"
   ]
  },
  {
   "cell_type": "code",
   "execution_count": 7,
   "metadata": {
    "scrolled": false
   },
   "outputs": [
    {
     "data": {
      "application/vnd.jupyter.widget-view+json": {
       "model_id": "ece3db3e22934cf9948a532eeaee8ba0",
       "version_major": 2,
       "version_minor": 0
      },
      "text/plain": [
       "interactive(children=(Dropdown(description='guess', options=(1, 2, 3), value=1), Dropdown(description='change'…"
      ]
     },
     "metadata": {},
     "output_type": "display_data"
    }
   ],
   "source": [
    "interact_manual(monty_hall_sim_interactive, guess=[1,2,3], change = [\"Yes\", \"No\"]);"
   ]
  },
  {
   "cell_type": "markdown",
   "metadata": {},
   "source": [
    "TODO: give directions for using this widget"
   ]
  },
  {
   "cell_type": "code",
   "execution_count": 8,
   "metadata": {},
   "outputs": [
    {
     "data": {
      "application/vnd.jupyter.widget-view+json": {
       "model_id": "a64bae4699bc4436a4343daabc317ad3",
       "version_major": 2,
       "version_minor": 0
      },
      "text/plain": [
       "interactive(children=(IntSlider(value=51, description='numdoors', min=3), IntSlider(value=55, description='num…"
      ]
     },
     "metadata": {},
     "output_type": "display_data"
    }
   ],
   "source": [
    "interact_manual(monty_hall_sim, numdoors=(3,100), numgames=(10,100));"
   ]
  },
  {
   "cell_type": "markdown",
   "metadata": {},
   "source": [
    "## Data Science with Fashion on Instagram ##"
   ]
  },
  {
   "cell_type": "code",
   "execution_count": 9,
   "metadata": {},
   "outputs": [],
   "source": [
    "# data source from: https://dataverse.harvard.edu/dataset.xhtml?persistentId=doi:10.7910/DVN/K7AW6F\n",
    "fashion_data = pd.read_csv('fashiondataonInstagram.csv')"
   ]
  },
  {
   "cell_type": "code",
   "execution_count": 10,
   "metadata": {
    "scrolled": false
   },
   "outputs": [
    {
     "name": "stdout",
     "output_type": "stream",
     "text": [
      "<class 'pandas.core.frame.DataFrame'>\n",
      "RangeIndex: 24752 entries, 0 to 24751\n",
      "Data columns (total 33 columns):\n",
      " #   Column                  Non-Null Count  Dtype  \n",
      "---  ------                  --------------  -----  \n",
      " 0   UserId                  24752 non-null  object \n",
      " 1   Followings              24752 non-null  float64\n",
      " 2   Followers               24752 non-null  float64\n",
      " 3   MediaCount              24752 non-null  int64  \n",
      " 4   BrandName               24752 non-null  object \n",
      " 5   BrandCategory           24752 non-null  object \n",
      " 6   Hashtags                24606 non-null  object \n",
      " 7   Caption                 24717 non-null  object \n",
      " 8   ImgURL                  24752 non-null  object \n",
      " 9   Likes                   24752 non-null  int64  \n",
      " 10  Comments                24752 non-null  int64  \n",
      " 11  CreationTime            24752 non-null  int64  \n",
      " 12  Link                    24752 non-null  object \n",
      " 13  Selfie                  24752 non-null  float64\n",
      " 14  BodySnap                24752 non-null  float64\n",
      " 15  Marketing               24752 non-null  float64\n",
      " 16  ProductOnly             24752 non-null  float64\n",
      " 17  NonFashion              24752 non-null  float64\n",
      " 18  Face                    24752 non-null  float64\n",
      " 19  Logo                    24752 non-null  float64\n",
      " 20  BrandLogo               24752 non-null  float64\n",
      " 21  Smile                   24752 non-null  float64\n",
      " 22  Outdoor                 24752 non-null  float64\n",
      " 23  NumberOfPeople          24752 non-null  float64\n",
      " 24  NumberOfFashionProduct  24752 non-null  float64\n",
      " 25  Anger                   24752 non-null  float64\n",
      " 26  Contempt                24752 non-null  float64\n",
      " 27  Disgust                 24752 non-null  float64\n",
      " 28  Fear                    24752 non-null  float64\n",
      " 29  Happiness               24752 non-null  float64\n",
      " 30  Neutral                 24752 non-null  float64\n",
      " 31  Sadness                 24752 non-null  float64\n",
      " 32  Surprise                24752 non-null  float64\n",
      "dtypes: float64(22), int64(4), object(7)\n",
      "memory usage: 6.2+ MB\n"
     ]
    }
   ],
   "source": [
    "fashion_data.describe()\n",
    "fashion_data.info()"
   ]
  },
  {
   "cell_type": "code",
   "execution_count": 11,
   "metadata": {},
   "outputs": [
    {
     "data": {
      "image/png": "[encoded data removed]",
      "text/plain": [
       "<Figure size 1440x720 with 1 Axes>"
      ]
     },
     "metadata": {
      "needs_background": "light"
     },
     "output_type": "display_data"
    },
    {
     "name": "stdout",
     "output_type": "stream",
     "text": [
      "The correlation between likes and followers is 0.8453567368737612 which is almost 1, so they are related\n"
     ]
    }
   ],
   "source": [
    "followers = fashion_data['Followers']\n",
    "likes = fashion_data['Likes']\n",
    "followers_likes_corr = followers.corr(likes)\n",
    "\n",
    "fig = plt.figure(num=1, figsize=(20, 10))  \n",
    "axes = fig.add_subplot(1, 1, 1)\n",
    "axes.set_xlabel('Followers')\n",
    "axes.set_ylabel('Likes')\n",
    "axes.set_title('Do Fashion Instagrammer\\'s with more followers get more likes?')\n",
    "axes.plot(followers, likes, '*')\n",
    "# https://stackoverflow.com/questions/41635448/how-can-i-draw-scatter-trend-line-on-matplot-python-pandas/41635626\n",
    "plt.scatter(followers,likes)\n",
    "fit = np.polyfit(followers, likes, 1)\n",
    "fit = np.poly1d(fit)\n",
    "plt.plot(followers,fit(followers),\"r--\")\n",
    "plt.show()\n",
    "\n",
    "print(\"The correlation between likes and followers is \" + str(followers_likes_corr) + \" which is almost 1, so they are related\" )"
   ]
  },
  {
   "cell_type": "code",
   "execution_count": 12,
   "metadata": {},
   "outputs": [
    {
     "name": "stdout",
     "output_type": "stream",
     "text": [
      "The mean 'like' value is: 101.62213154492567\n",
      "The standard deviation is: 871.0110606292682\n"
     ]
    }
   ],
   "source": [
    "print(\"The mean 'like' value is: \" + str(likes.mean()))\n",
    "print(\"The standard deviation is: \" + str(likes.std()))\n",
    "\n",
    "#TODO: make a histogram of likes"
   ]
  },
  {
   "cell_type": "raw",
   "metadata": {},
   "source": []
  },
  {
   "cell_type": "markdown",
   "metadata": {},
   "source": [
    "# Natasha comment: This could be an good place to let students try to apply .mean()  , .std() methods , since you have demonstrated it in the above example. step1: explain how .mean(),  .std() methods work and how to use them, step2: Students apply them to analyze the correlation likes and happiness\n"
   ]
  },
  {
   "cell_type": "code",
   "execution_count": 13,
   "metadata": {},
   "outputs": [
    {
     "data": {
      "image/png": "[encoded data removed]",
      "text/plain": [
       "<Figure size 1440x720 with 1 Axes>"
      ]
     },
     "metadata": {
      "needs_background": "light"
     },
     "output_type": "display_data"
    },
    {
     "name": "stdout",
     "output_type": "stream",
     "text": [
      "The correlation between likes and happiness is 0.015491119083931632 which is almost 0, so they are most likely\n",
      "not related\n"
     ]
    }
   ],
   "source": [
    "happiness = fashion_data['Happiness']\n",
    "\n",
    "fig = plt.figure(num=1, figsize=(20, 10))  \n",
    "axes = fig.add_subplot(1, 1, 1)  # one by one \n",
    "axes.set_xlabel('Observed Happiness')\n",
    "axes.set_ylabel('Likes')\n",
    "axes.set_title('Do Fashion Instagrammer\\'s with a higher observed happiness get more likes?')\n",
    "axes.plot(happiness,  likes, '*')\n",
    "plt.show()\n",
    "\n",
    "happiness_likes_corr = happiness.corr(likes)\n",
    "print(\"The correlation between likes and happiness is \" + str(happiness_likes_corr) + \" which is almost 0, so they are most likely\\nnot related\" )"
   ]
  },
  {
   "cell_type": "code",
   "execution_count": 14,
   "metadata": {},
   "outputs": [
    {
     "data": {
      "image/png": "[encoded data removed]",
      "text/plain": [
       "<Figure size 1440x720 with 1 Axes>"
      ]
     },
     "metadata": {
      "needs_background": "light"
     },
     "output_type": "display_data"
    }
   ],
   "source": [
    "# what are the most common hash tags?\n",
    "hash_tags = fashion_data['Hashtags'].astype(str)\n",
    "counter = collections.Counter()\n",
    "\n",
    "for tag_set in hash_tags:\n",
    "    tags = tag_set.split(', ')\n",
    "    for tag in tags:\n",
    "        if '\\\\' not in tag:\n",
    "            counter[tag] += 1\n",
    "most_common_hash_tags = collections.OrderedDict(sorted(counter.items(), key=lambda t: t[1], reverse=True))\n",
    "sorted_common_hash_tags = pd.DataFrame.from_dict(most_common_hash_tags, orient='index').reset_index()\n",
    "sorted_common_hash_tags.describe()\n",
    "sorted_common_hash_tags = sorted_common_hash_tags.head(15)\n",
    "fig = plt.figure(num=1,figsize=(20, 10))  \n",
    "axes = fig.add_subplot(1, 1, 1)  # one by one \n",
    "axes.set_xlabel('Tags')\n",
    "axes.set_ylabel('Times used')\n",
    "axes.set_title('What are the top 15 most frequently used Hash Tags?')\n",
    "sorted_common_hash_tags = sorted_common_hash_tags.rename(columns= {'index' : 'tag', 0 : 'frequency'})\n",
    "axes.bar(sorted_common_hash_tags['tag'], sorted_common_hash_tags['frequency']);\n"
   ]
  },
  {
   "cell_type": "code",
   "execution_count": null,
   "metadata": {},
   "outputs": [],
   "source": []
  }
 ],
 "metadata": {
  "kernelspec": {
   "display_name": "Python 3",
   "language": "python",
   "name": "python3"
  },
  "language_info": {
   "codemirror_mode": {
    "name": "ipython",
    "version": 3
   },
   "file_extension": ".py",
   "mimetype": "text/x-python",
   "name": "python",
   "nbconvert_exporter": "python",
   "pygments_lexer": "ipython3",
   "version": "3.8.3"
  }
 },
 "nbformat": 4,
 "nbformat_minor": 4
}
