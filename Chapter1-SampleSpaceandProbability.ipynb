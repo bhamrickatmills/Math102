{
 "cells": [
  {
   "cell_type": "markdown",
   "metadata": {},
   "source": [
    "## Introduction to Jupyter, Python, and Discrete Probability models"
   ]
  },
  {
   "cell_type": "code",
   "execution_count": 1,
   "metadata": {},
   "outputs": [
    {
     "name": "stdout",
     "output_type": "stream",
     "text": [
      "Hello, World!\n"
     ]
    }
   ],
   "source": [
    "print(\"Hello, World!\")"
   ]
  },
  {
   "cell_type": "markdown",
   "metadata": {},
   "source": [
    "# Importing Libraries"
   ]
  },
  {
   "cell_type": "code",
   "execution_count": 2,
   "metadata": {},
   "outputs": [],
   "source": [
    "# Import all necessary libraries. Run this cell: Ctrl+Enter \n",
    "# You don't need to know this\n",
    "\n",
    "import pandas as pd\n",
    "import numpy as np\n",
    "%matplotlib inline\n",
    "import matplotlib.pyplot as plt\n",
    "plt.style.use('fivethirtyeight')\n",
    "import ipywidgets as widgets\n",
    "from ipywidgets import interact, interactive, fixed, interact_manual \n",
    "from IPython.display import Image, display"
   ]
  },
  {
   "cell_type": "code",
   "execution_count": 114,
   "metadata": {},
   "outputs": [
    {
     "data": {
      "application/vnd.jupyter.widget-view+json": {
       "model_id": "c85091c92ab14b3da6d4467cf662a50a",
       "version_major": 2,
       "version_minor": 0
      },
      "text/plain": [
       "interactive(children=(IntSlider(value=50, description='trials', min=1), Button(description='Run Interact', sty…"
      ]
     },
     "metadata": {},
     "output_type": "display_data"
    }
   ],
   "source": [
    "interact_manual(flip_coins, trials=(1,100,1))\n",
    "\n",
    "def flip_coins(trials):\n",
    "    flips = np.random.randint(low=0, high=2, size=trials)\n",
    "    \n",
    "    events = {\"Heads\": 0, \"Tails\": 0}\n",
    "    \n",
    "    # so we don't divide by zero\n",
    "    if(trials == 0):\n",
    "        trials = 1\n",
    "        \n",
    "    for n in range(trials):\n",
    "        if(flips[n] == 0):\n",
    "            events[\"Heads\"] = events.get(\"Heads\") + 1\n",
    "        else:\n",
    "            events[\"Tails\"] = events.get(\"Tails\") + 1\n",
    "\n",
    "    keys = events.keys()\n",
    "    values = events.values()\n",
    "    plt.bar(keys, values, color = [\"cyan\",\"orange\"])\n",
    "    plt.ylabel(\"# of Flips\")\n",
    "    plt.ylim(0, int(trials))\n",
    "    \n",
    "    labels = [events.get(\"Heads\"), events.get(\"Tails\")]\n",
    "    plt.text(x = -0.05, y = labels[0] + 0.4, s = labels[0], size = 20)\n",
    "    plt.text(x = 0.90, y = labels[1] + 0.4, s = labels[1], size = 20)"
   ]
  },
  {
   "cell_type": "code",
   "execution_count": null,
   "metadata": {},
   "outputs": [],
   "source": []
  }
 ],
 "metadata": {
  "kernelspec": {
   "display_name": "Python 3",
   "language": "python",
   "name": "python3"
  },
  "language_info": {
   "codemirror_mode": {
    "name": "ipython",
    "version": 3
   },
   "file_extension": ".py",
   "mimetype": "text/x-python",
   "name": "python",
   "nbconvert_exporter": "python",
   "pygments_lexer": "ipython3",
   "version": "3.7.6"
  }
 },
 "nbformat": 4,
 "nbformat_minor": 4
}
